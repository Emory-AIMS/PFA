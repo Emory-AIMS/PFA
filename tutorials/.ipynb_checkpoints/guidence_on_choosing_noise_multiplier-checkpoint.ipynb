{
 "cells": [
  {
   "cell_type": "markdown",
   "metadata": {},
   "source": [
    "# Noise/Sampling error trade-offs\n",
    "\n",
    "We consider some hyper-parameter values are manually set before the training of the private model begins:\n",
    "- Number of DPSGD iterations (`num_steps`)\n",
    "- Per-sample gradients' clipping bound (`max_grad_norm`)\n",
    "- Target DP parameters (`target_epsilons` and `target_delta`). \n",
    "\n",
    "Particularly, in the FL scenarios, the following variables are also considered as the hyper-parameters:\n",
    "- Number of the communication rounds (`num_rounds`)\n",
    "- Client-level sampling probability (`client_rate`) "
   ]
  },
  {
   "cell_type": "code",
   "execution_count": 1,
   "metadata": {},
   "outputs": [
    {
     "ename": "ValueError",
     "evalue": "The string /home/junxu/rPDP-FL/experiments/datasets/fed_mnist/iid_10 is not a valid path.",
     "output_type": "error",
     "traceback": [
      "\u001b[0;31m---------------------------------------------------------------------------\u001b[0m",
      "\u001b[0;31mValueError\u001b[0m                                Traceback (most recent call last)",
      "\u001b[0;32m/tmp/ipykernel_555560/4020819603.py\u001b[0m in \u001b[0;36m<module>\u001b[0;34m\u001b[0m\n\u001b[1;32m     54\u001b[0m \u001b[0;34m\"\"\" Prepare local datasets \"\"\"\u001b[0m\u001b[0;34m\u001b[0m\u001b[0;34m\u001b[0m\u001b[0m\n\u001b[1;32m     55\u001b[0m \u001b[0mdata_path\u001b[0m \u001b[0;34m=\u001b[0m \u001b[0mos\u001b[0m\u001b[0;34m.\u001b[0m\u001b[0mpath\u001b[0m\u001b[0;34m.\u001b[0m\u001b[0mjoin\u001b[0m\u001b[0;34m(\u001b[0m\u001b[0mproject_abspath\u001b[0m\u001b[0;34m,\u001b[0m \u001b[0mdict\u001b[0m\u001b[0;34m[\u001b[0m\u001b[0;34m\"dataset_dir\"\u001b[0m\u001b[0;34m]\u001b[0m\u001b[0;34m[\u001b[0m\u001b[0;34mf\"iid_{NUM_CLIENTS}\"\u001b[0m\u001b[0;34m]\u001b[0m\u001b[0;34m)\u001b[0m\u001b[0;34m\u001b[0m\u001b[0;34m\u001b[0m\u001b[0m\n\u001b[0;32m---> 56\u001b[0;31m \u001b[0mrawdata\u001b[0m \u001b[0;34m=\u001b[0m \u001b[0mRawClass\u001b[0m\u001b[0;34m(\u001b[0m\u001b[0mdata_path\u001b[0m\u001b[0;34m=\u001b[0m\u001b[0mdata_path\u001b[0m\u001b[0;34m)\u001b[0m\u001b[0;34m\u001b[0m\u001b[0;34m\u001b[0m\u001b[0m\n\u001b[0m\u001b[1;32m     57\u001b[0m \u001b[0mtest_dls\u001b[0m\u001b[0;34m,\u001b[0m \u001b[0mtraining_dls\u001b[0m\u001b[0;34m,\u001b[0m \u001b[0mtarget_epsilons\u001b[0m \u001b[0;34m=\u001b[0m \u001b[0;34m[\u001b[0m\u001b[0;34m]\u001b[0m\u001b[0;34m,\u001b[0m \u001b[0;34m[\u001b[0m\u001b[0;34m]\u001b[0m\u001b[0;34m,\u001b[0m \u001b[0;34m[\u001b[0m\u001b[0;34m]\u001b[0m\u001b[0;34m\u001b[0m\u001b[0;34m\u001b[0m\u001b[0m\n\u001b[1;32m     58\u001b[0m \u001b[0;32mfor\u001b[0m \u001b[0mi\u001b[0m \u001b[0;32min\u001b[0m \u001b[0mrange\u001b[0m\u001b[0;34m(\u001b[0m\u001b[0mNUM_CLIENTS\u001b[0m\u001b[0;34m)\u001b[0m\u001b[0;34m:\u001b[0m \u001b[0;31m# NUM_CLIENTS\u001b[0m\u001b[0;34m\u001b[0m\u001b[0;34m\u001b[0m\u001b[0m\n",
      "\u001b[0;32m~/rPDP-FL/datasets/fed_mnist/dataset.py\u001b[0m in \u001b[0;36m__init__\u001b[0;34m(self, data_path, X_dtype, y_dtype, train_fraction, transform)\u001b[0m\n\u001b[1;32m     24\u001b[0m     ):\n\u001b[1;32m     25\u001b[0m         \u001b[0;32mif\u001b[0m \u001b[0;32mnot\u001b[0m \u001b[0;34m(\u001b[0m\u001b[0mos\u001b[0m\u001b[0;34m.\u001b[0m\u001b[0mpath\u001b[0m\u001b[0;34m.\u001b[0m\u001b[0mexists\u001b[0m\u001b[0;34m(\u001b[0m\u001b[0mdata_path\u001b[0m\u001b[0;34m)\u001b[0m\u001b[0;34m)\u001b[0m\u001b[0;34m:\u001b[0m\u001b[0;34m\u001b[0m\u001b[0;34m\u001b[0m\u001b[0m\n\u001b[0;32m---> 26\u001b[0;31m             \u001b[0;32mraise\u001b[0m \u001b[0mValueError\u001b[0m\u001b[0;34m(\u001b[0m\u001b[0;34mf\"The string {data_path} is not a valid path.\"\u001b[0m\u001b[0;34m)\u001b[0m\u001b[0;34m\u001b[0m\u001b[0;34m\u001b[0m\u001b[0m\n\u001b[0m\u001b[1;32m     27\u001b[0m         \u001b[0mself\u001b[0m\u001b[0;34m.\u001b[0m\u001b[0mdata_dir\u001b[0m \u001b[0;34m=\u001b[0m \u001b[0mPath\u001b[0m\u001b[0;34m(\u001b[0m\u001b[0mdata_path\u001b[0m\u001b[0;34m)\u001b[0m\u001b[0;34m\u001b[0m\u001b[0;34m\u001b[0m\u001b[0m\n\u001b[1;32m     28\u001b[0m \u001b[0;34m\u001b[0m\u001b[0m\n",
      "\u001b[0;31mValueError\u001b[0m: The string /home/junxu/rPDP-FL/experiments/datasets/fed_mnist/iid_10 is not a valid path."
     ]
    }
   ],
   "source": [
    "import importlib\n",
    "import numpy as np\n",
    "import os\n",
    "import pandas as pd\n",
    "import sys\n",
    "import torch\n",
    "from torch.utils.data import DataLoader\n",
    "import warnings # ignore warnings for clarity\n",
    "warnings.simplefilter(\"ignore\")\n",
    "sys.path.append(\"..\")\n",
    "\n",
    "from configs.config_utils import read_config, get_config_file_path\n",
    "\n",
    "from myopacus.accountants.rpdp_utils import GENERATE_EPSILONS_FUNC\n",
    "\n",
    "os.environ['CUDA_LAUNCH_BLOCKING'] = '1'\n",
    "dataset = \"mnist\"\n",
    "device = torch.device(f\"cuda:7\" if torch.cuda.is_available() else \"cpu\")\n",
    "module_name = f\"datasets.fed_{dataset}\"\n",
    "try:\n",
    "    dataset_modules = importlib.import_module(module_name)\n",
    "    FedClass = dataset_modules.FedClass\n",
    "    RawClass = dataset_modules.RawClass\n",
    "    BaselineModel = dataset_modules.BaselineModel\n",
    "    BaselineLoss = dataset_modules.BaselineLoss\n",
    "    Optimizer = dataset_modules.Optimizer\n",
    "    metric = dataset_modules.metric\n",
    "\n",
    "except ModuleNotFoundError as e:\n",
    "    print(f'{module_name} import failed: {e}')\n",
    "\n",
    "project_abspath = os.path.abspath(os.path.join(os.getcwd(),\"../..\"))\n",
    "dict = read_config(get_config_file_path(dataset_name=f\"fed_{dataset}\", debug=False))\n",
    "save_filename = os.path.join(f\"results_test_sigmas_fedavg_{dataset}.csv\")\n",
    "\n",
    "NUM_CLIENTS = dict[\"fedavg\"][\"num_clients\"]\n",
    "NUM_STEPS = dict[\"fedavg\"][\"num_steps\"]\n",
    "NUM_ROUNDS = dict[\"fedavg\"][\"num_rounds\"]\n",
    "CLIENT_RATE = dict[\"fedavg\"][\"client_rate\"]\n",
    "BATCH_SIZE = dict[\"fedavg\"][\"batch_size\"]\n",
    "LR = dict[\"fedavg\"][\"learning_rate\"]\n",
    "\n",
    "LR_DP = dict[\"dpfedavg\"][\"learning_rate\"]\n",
    "MAX_GRAD_NORM = dict[\"dpfedavg\"][\"max_grad_norm\"]\n",
    "TARGET_DELTA = dict[\"dpfedavg\"][\"target_delta\"]\n",
    "MAX_PHYSICAL_BATCH_SIZE = dict[\"dpfedavg\"][\"max_physical_batch_size\"]\n",
    "\n",
    "\"\"\" Prepare personalized epsilons \"\"\"\n",
    "# different distributions & different settings\n",
    "SETTINGS = dict[\"rpdpfedavg\"][\"settings\"]\n",
    "MIN_EPSILON, MAX_EPSILON = dict[\"rpdpfedavg\"][\"min_epsilon\"], dict[\"rpdpfedavg\"][\"max_epsilon\"]\n",
    "BoundedFunc = lambda values: np.array([min(max(x, MIN_EPSILON), MAX_EPSILON) for x in values])\n",
    "\n",
    "\"\"\" Prepare local datasets \"\"\"\n",
    "data_path = os.path.join(project_abspath, dict[\"dataset_dir\"][f\"iid_{NUM_CLIENTS}\"])\n",
    "rawdata = RawClass(data_path=data_path)\n",
    "test_dls, training_dls, target_epsilons = [], [], []\n",
    "for i in range(NUM_CLIENTS): # NUM_CLIENTS\n",
    "    train_data = FedClass(rawdata=rawdata, center=i, train=True)\n",
    "    train_dl = DataLoader(train_data, batch_size=len(train_data))\n",
    "    training_dls.append(train_dl)\n",
    "    target_epsilons.append(BoundedFunc(GENERATE_EPSILONS_FUNC[\"BoundedMixGauss\"](len(train_dl.dataset), SETTINGS[\"BoundedMixGauss\"][0])))\n",
    "\n",
    "    test_data = FedClass(rawdata=rawdata, center=i, train=False)\n",
    "    test_dl = DataLoader(test_data, batch_size=BATCH_SIZE)\n",
    "    test_dls.append(test_dl)\n",
    "\n",
    "\"\"\" Prepare model and loss \"\"\"\n",
    "# We set model and dataloaders to be the same for each rep\n",
    "global_init = BaselineModel.to(device)\n",
    "criterion = BaselineLoss()\n",
    "\n",
    "training_args = {\n",
    "    \"training_dataloaders\": training_dls,\n",
    "    \"test_dataloaders\": test_dls,\n",
    "    \"loss\": criterion,\n",
    "    \"optimizer_class\": Optimizer,\n",
    "    \"learning_rate\": LR_DP,\n",
    "    \"num_steps\": NUM_STEPS,\n",
    "    \"num_rounds\": NUM_ROUNDS,\n",
    "    \"client_rate\": CLIENT_RATE,\n",
    "    \"device\": device,\n",
    "    \"metric\": metric\n",
    "}"
   ]
  },
  {
   "cell_type": "markdown",
   "metadata": {},
   "source": [
    "## The noise scales (aka. `noise_multiplier`) reflect how much Gaussian noise introduced in the training process"
   ]
  },
  {
   "cell_type": "code",
   "execution_count": null,
   "metadata": {},
   "outputs": [],
   "source": [
    "NOISE_MULTIPLIERS = [1., 1.2, 1.5, 2., 5., 10.]"
   ]
  },
  {
   "cell_type": "code",
   "execution_count": null,
   "metadata": {},
   "outputs": [],
   "source": [
    "import copy\n",
    "import datetime\n",
    "from myopacus import PrivacyEngine\n",
    "from myopacus.strategies import FedAvg\n",
    "\n",
    "for noise_multiplier in NOISE_MULTIPLIERS:\n",
    "    privacy_engine = PrivacyEngine(accountant=\"fed_rdp\", n_clients=NUM_CLIENTS)\n",
    "    privacy_engine.prepare_fedrpdp(\n",
    "        num_steps = NUM_STEPS,\n",
    "        num_rounds = NUM_ROUNDS,\n",
    "        client_rate = CLIENT_RATE,\n",
    "        target_epsilons = target_epsilons,\n",
    "        target_delta = TARGET_DELTA,\n",
    "        noise_multiplier = noise_multiplier,\n",
    "        max_grad_norm = MAX_GRAD_NORM,\n",
    "        max_physical_batch_size = MAX_PHYSICAL_BATCH_SIZE\n",
    "    )\n",
    "    current_args = copy.deepcopy(training_args)\n",
    "    current_args[\"model\"] = copy.deepcopy(global_init)\n",
    "    current_args[\"privacy_engine\"] = privacy_engine\n",
    "\n",
    "    s = FedAvg(**current_args, log=False)\n",
    "    cm, perf = s.run()\n",
    "    mean_perf = np.mean(perf[-3:])\n",
    "    expected_batch_size = [int(sum(acct.sample_rate)) for acct in s.privacy_engine.accountant.accountants]\n",
    "    \n",
    "    print(f\"Mean performance of BoundedMixGauss, min_eps={min(target_epsilons[0]):.4f}, max_eps={max(target_epsilons[0]):.4f}, delta={TARGET_DELTA}, Perf={mean_perf:.4f}\")\n",
    "    results_dict = [{\n",
    "        \"timestamp\": datetime.datetime.now().strftime(\"%Y-%m-%d %H:%M\"),\n",
    "        \"mean_perf\": round(mean_perf,4), \"perf\": perf, \n",
    "        \"e\": f\"BoundedMixGauss-0-Ours\", \n",
    "        \"d\": TARGET_DELTA, \n",
    "        \"nm\": round(s.privacy_engine.default_noise_multiplier, 2), \n",
    "        \"norm\": MAX_GRAD_NORM, \n",
    "        \"bs\": expected_batch_size, \n",
    "        \"lr\": LR_DP,\n",
    "        \"num_clients\": NUM_CLIENTS,\n",
    "        \"client_rate\": CLIENT_RATE}]\n",
    "    results = pd.DataFrame.from_dict(results_dict)\n",
    "    results.to_csv(save_filename, mode='a', index=False)\n",
    "    del privacy_engine, s, cm, mean_perf"
   ]
  }
 ],
 "metadata": {
  "kernelspec": {
   "display_name": "Python 3 (ipykernel)",
   "language": "python",
   "name": "python3"
  },
  "language_info": {
   "codemirror_mode": {
    "name": "ipython",
    "version": 3
   },
   "file_extension": ".py",
   "mimetype": "text/x-python",
   "name": "python",
   "nbconvert_exporter": "python",
   "pygments_lexer": "ipython3",
   "version": "3.7.16"
  },
  "vscode": {
   "interpreter": {
    "hash": "9cd2817a37aac10ac04dd4bd211d68db65c45a714a600fc3dbad943ddf1ad11a"
   }
  }
 },
 "nbformat": 4,
 "nbformat_minor": 2
}
